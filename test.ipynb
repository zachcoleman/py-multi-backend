{
 "cells": [
  {
   "cell_type": "code",
   "execution_count": null,
   "metadata": {},
   "outputs": [],
   "source": [
    "import numpy as np\n",
    "from python.py_rle import mask2rle, rle2mask \n",
    "from cython_rle import cy_mask_to_rle\n",
    "from py_multi_backend import arr2rle, c_order_mask2rle, f_order_mask2rle, thread_arr2rle, thread_f_order_mask2rle, thread_c_order_mask2rle\n",
    "from py_multi_backend import rle2mask as rust_rle2mask"
   ]
  },
  {
   "cell_type": "code",
   "execution_count": null,
   "metadata": {},
   "outputs": [],
   "source": [
    "SIZE = (3072, 3072)\n",
    "rand_mask = np.random.random(SIZE) < 0.5\n",
    "static_mask = np.ones(SIZE) < 0.5\n",
    "rand_rle = arr2rle(rand_mask.ravel(\"F\"))\n",
    "# rand_rle = arr2rle(static_mask.ravel(\"F\"))"
   ]
  },
  {
   "cell_type": "code",
   "execution_count": null,
   "metadata": {},
   "outputs": [],
   "source": [
    "%%timeit\n",
    "_ = rust_rle2mask(rand_rle, SIZE)"
   ]
  },
  {
   "cell_type": "code",
   "execution_count": null,
   "metadata": {},
   "outputs": [],
   "source": [
    "rust_rle2mask(rand_rle, SIZE)"
   ]
  },
  {
   "cell_type": "code",
   "execution_count": null,
   "metadata": {},
   "outputs": [],
   "source": [
    "from pycocotools import mask as cocomask\n",
    "seg_rle = cocomask.encode(np.asfortranarray(static_mask))\n",
    "seg_rle[\"counts\"] = seg_rle[\"counts\"].decode(\"utf-8\")"
   ]
  },
  {
   "cell_type": "code",
   "execution_count": null,
   "metadata": {},
   "outputs": [],
   "source": [
    "%%timeit\n",
    "_ = rle2mask(seg_rle)"
   ]
  },
  {
   "cell_type": "code",
   "execution_count": null,
   "metadata": {},
   "outputs": [],
   "source": [
    "%%timeit\n",
    "_ = arr2rle(rand_mask.ravel(\"F\"))"
   ]
  },
  {
   "cell_type": "code",
   "execution_count": null,
   "metadata": {},
   "outputs": [],
   "source": [
    "%%timeit\n",
    "_ = arr2rle(static_mask.ravel(\"F\"))"
   ]
  },
  {
   "cell_type": "code",
   "execution_count": null,
   "metadata": {},
   "outputs": [],
   "source": [
    "%%timeit\n",
    "_ = f_order_mask2rle(rand_mask)"
   ]
  },
  {
   "cell_type": "code",
   "execution_count": null,
   "metadata": {},
   "outputs": [],
   "source": [
    "%%timeit\n",
    "_ = f_order_mask2rle(static_mask)"
   ]
  },
  {
   "cell_type": "code",
   "execution_count": null,
   "metadata": {},
   "outputs": [],
   "source": [
    "%%timeit\n",
    "_ = c_order_mask2rle(rand_mask)"
   ]
  },
  {
   "cell_type": "code",
   "execution_count": null,
   "metadata": {},
   "outputs": [],
   "source": [
    "%%timeit\n",
    "_ = c_order_mask2rle(static_mask)"
   ]
  },
  {
   "cell_type": "code",
   "execution_count": null,
   "metadata": {},
   "outputs": [],
   "source": [
    "%%timeit\n",
    "_ = cy_mask_to_rle(rand_mask)"
   ]
  },
  {
   "cell_type": "code",
   "execution_count": null,
   "metadata": {},
   "outputs": [],
   "source": [
    "%%timeit\n",
    "_ = cy_mask_to_rle(static_mask)"
   ]
  },
  {
   "cell_type": "code",
   "execution_count": null,
   "metadata": {},
   "outputs": [],
   "source": [
    "%%timeit\n",
    "_ = py_mask_to_rle(rand_mask)"
   ]
  },
  {
   "cell_type": "code",
   "execution_count": null,
   "metadata": {},
   "outputs": [],
   "source": [
    "%%timeit\n",
    "_ = py_mask_to_rle(static_mask)"
   ]
  },
  {
   "cell_type": "code",
   "execution_count": null,
   "metadata": {},
   "outputs": [],
   "source": [
    "assert cy_mask_to_rle(rand_mask)[\"counts\"] == py_mask_to_rle(rand_mask)[\"counts\"]\n",
    "assert arr2rle(rand_mask.ravel(order=\"F\")) == py_mask_to_rle(rand_mask)[\"counts\"]\n",
    "assert f_order_mask2rle(rand_mask) == py_mask_to_rle(rand_mask)[\"counts\"]\n",
    "# assert go_mask_to_rle(rand_mask.ravel(order=\"F\")) == py_mask_to_rle(rand_mask)[\"counts\"]"
   ]
  }
 ],
 "metadata": {
  "interpreter": {
   "hash": "3c3a84d117b694c9e2041feee01a0bdd5ac99ee6fb78c2a44f2264d4900b1e20"
  },
  "kernelspec": {
   "display_name": "Python 3.9.7 ('.venv': venv)",
   "language": "python",
   "name": "python3"
  },
  "language_info": {
   "codemirror_mode": {
    "name": "ipython",
    "version": 3
   },
   "file_extension": ".py",
   "mimetype": "text/x-python",
   "name": "python",
   "nbconvert_exporter": "python",
   "pygments_lexer": "ipython3",
   "version": "3.9.7"
  },
  "orig_nbformat": 4
 },
 "nbformat": 4,
 "nbformat_minor": 2
}
