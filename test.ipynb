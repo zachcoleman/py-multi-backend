{
 "cells": [
  {
   "cell_type": "code",
   "execution_count": 1,
   "metadata": {},
   "outputs": [],
   "source": [
    "import numpy as np\n",
    "from python.py_rle import mask2rle, rle2mask \n",
    "from cython_rle import cy_mask_to_rle\n",
    "from py_multi_backend import (\n",
    "    arr2rle, \n",
    "    c_order_mask2rle, \n",
    "    f_order_mask2rle, \n",
    "    thread_arr2rle, \n",
    "    thread_f_order_mask2rle, \n",
    "    thread_c_order_mask2rle,\n",
    "    rle2mask as rust_rle2mask\n",
    ")\n",
    "from pycocotools import mask as cocomask"
   ]
  },
  {
   "cell_type": "code",
   "execution_count": 2,
   "metadata": {},
   "outputs": [],
   "source": [
    "SIZE = (3072, 3072)\n",
    "rand_mask = np.random.random(SIZE) < 0.5\n",
    "static_mask = np.ones(SIZE) < 0.5\n",
    "rand_rle = arr2rle(rand_mask.ravel(\"F\"))\n",
    "static_rle = arr2rle(static_mask.ravel(\"F\"))\n",
    "\n",
    "static_seg_rle = cocomask.encode(np.asfortranarray(static_mask))\n",
    "static_seg_rle[\"counts\"] = static_seg_rle[\"counts\"].decode(\"utf-8\")\n",
    "\n",
    "rand_seg_rle = cocomask.encode(np.asfortranarray(rand_mask))\n",
    "rand_seg_rle[\"counts\"] = rand_seg_rle[\"counts\"].decode(\"utf-8\")"
   ]
  },
  {
   "cell_type": "markdown",
   "metadata": {},
   "source": [
    "### RLE to Mask Benchmarks"
   ]
  },
  {
   "cell_type": "code",
   "execution_count": 3,
   "metadata": {},
   "outputs": [],
   "source": [
    "assert (rust_rle2mask(static_rle, SIZE) == static_mask).all()\n",
    "assert (rust_rle2mask(rand_rle, SIZE) == rand_mask).all()"
   ]
  },
  {
   "cell_type": "code",
   "execution_count": 4,
   "metadata": {},
   "outputs": [
    {
     "name": "stdout",
     "output_type": "stream",
     "text": [
      "1.42 ms ± 60.3 µs per loop (mean ± std. dev. of 7 runs, 1,000 loops each)\n"
     ]
    }
   ],
   "source": [
    "%%timeit\n",
    "_ = rust_rle2mask(static_rle, SIZE)"
   ]
  },
  {
   "cell_type": "code",
   "execution_count": 5,
   "metadata": {},
   "outputs": [
    {
     "name": "stdout",
     "output_type": "stream",
     "text": [
      "195 ms ± 390 µs per loop (mean ± std. dev. of 7 runs, 10 loops each)\n"
     ]
    }
   ],
   "source": [
    "%%timeit\n",
    "_ = rust_rle2mask(rand_rle, SIZE)"
   ]
  },
  {
   "cell_type": "code",
   "execution_count": 6,
   "metadata": {},
   "outputs": [
    {
     "name": "stdout",
     "output_type": "stream",
     "text": [
      "12.5 ms ± 256 µs per loop (mean ± std. dev. of 7 runs, 100 loops each)\n"
     ]
    }
   ],
   "source": [
    "%%timeit\n",
    "_ = rle2mask(static_seg_rle)"
   ]
  },
  {
   "cell_type": "code",
   "execution_count": 7,
   "metadata": {},
   "outputs": [
    {
     "name": "stdout",
     "output_type": "stream",
     "text": [
      "97.5 ms ± 3.69 ms per loop (mean ± std. dev. of 7 runs, 10 loops each)\n"
     ]
    }
   ],
   "source": [
    "%%timeit\n",
    "_ = rle2mask(rand_seg_rle)"
   ]
  },
  {
   "cell_type": "markdown",
   "metadata": {},
   "source": [
    "### Mask to RLE Benchmarks"
   ]
  },
  {
   "cell_type": "code",
   "execution_count": null,
   "metadata": {},
   "outputs": [],
   "source": [
    "assert cy_mask_to_rle(rand_mask)[\"counts\"] == mask2rle(rand_mask)[\"counts\"]\n",
    "assert arr2rle(rand_mask.ravel(order=\"F\")) == mask2rle(rand_mask)[\"counts\"]\n",
    "assert f_order_mask2rle(rand_mask) == mask2rle(rand_mask)[\"counts\"]"
   ]
  },
  {
   "cell_type": "code",
   "execution_count": null,
   "metadata": {},
   "outputs": [],
   "source": [
    "%%timeit\n",
    "_ = arr2rle(rand_mask.ravel(\"F\"))"
   ]
  },
  {
   "cell_type": "code",
   "execution_count": null,
   "metadata": {},
   "outputs": [],
   "source": [
    "%%timeit\n",
    "_ = arr2rle(static_mask.ravel(\"F\"))"
   ]
  },
  {
   "cell_type": "code",
   "execution_count": null,
   "metadata": {},
   "outputs": [],
   "source": [
    "%%timeit\n",
    "_ = f_order_mask2rle(rand_mask)"
   ]
  },
  {
   "cell_type": "code",
   "execution_count": null,
   "metadata": {},
   "outputs": [],
   "source": [
    "%%timeit\n",
    "_ = f_order_mask2rle(static_mask)"
   ]
  },
  {
   "cell_type": "code",
   "execution_count": null,
   "metadata": {},
   "outputs": [],
   "source": [
    "%%timeit\n",
    "_ = c_order_mask2rle(rand_mask)"
   ]
  },
  {
   "cell_type": "code",
   "execution_count": null,
   "metadata": {},
   "outputs": [],
   "source": [
    "%%timeit\n",
    "_ = c_order_mask2rle(static_mask)"
   ]
  },
  {
   "cell_type": "code",
   "execution_count": null,
   "metadata": {},
   "outputs": [],
   "source": [
    "%%timeit\n",
    "_ = cy_mask_to_rle(rand_mask)"
   ]
  },
  {
   "cell_type": "code",
   "execution_count": null,
   "metadata": {},
   "outputs": [],
   "source": [
    "%%timeit\n",
    "_ = cy_mask_to_rle(static_mask)"
   ]
  },
  {
   "cell_type": "code",
   "execution_count": null,
   "metadata": {},
   "outputs": [],
   "source": [
    "%%timeit\n",
    "_ = mask2rle(rand_mask)"
   ]
  },
  {
   "cell_type": "code",
   "execution_count": null,
   "metadata": {},
   "outputs": [],
   "source": [
    "%%timeit\n",
    "_ = mask2rle(static_mask)"
   ]
  }
 ],
 "metadata": {
  "interpreter": {
   "hash": "3c3a84d117b694c9e2041feee01a0bdd5ac99ee6fb78c2a44f2264d4900b1e20"
  },
  "kernelspec": {
   "display_name": "Python 3.9.7 ('.venv': venv)",
   "language": "python",
   "name": "python3"
  },
  "language_info": {
   "codemirror_mode": {
    "name": "ipython",
    "version": 3
   },
   "file_extension": ".py",
   "mimetype": "text/x-python",
   "name": "python",
   "nbconvert_exporter": "python",
   "pygments_lexer": "ipython3",
   "version": "3.9.7"
  },
  "orig_nbformat": 4
 },
 "nbformat": 4,
 "nbformat_minor": 2
}
